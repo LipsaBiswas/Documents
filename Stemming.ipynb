{
  "nbformat": 4,
  "nbformat_minor": 0,
  "metadata": {
    "colab": {
      "name": "Stemming.ipynb",
      "provenance": [],
      "authorship_tag": "ABX9TyPYUK1hVtqZP9eyNAD8CKA8",
      "include_colab_link": true
    },
    "kernelspec": {
      "name": "python3",
      "display_name": "Python 3"
    },
    "language_info": {
      "name": "python"
    }
  },
  "cells": [
    {
      "cell_type": "markdown",
      "metadata": {
        "id": "view-in-github",
        "colab_type": "text"
      },
      "source": [
        "<a href=\"https://colab.research.google.com/github/LipsaBiswas/Documents/blob/master/Stemming.ipynb\" target=\"_parent\"><img src=\"https://colab.research.google.com/assets/colab-badge.svg\" alt=\"Open In Colab\"/></a>"
      ]
    },
    {
      "cell_type": "code",
      "metadata": {
        "id": "wpwz_zVWIZz3"
      },
      "source": [
        "#http://www.nltk.org/howto/stem.html\n",
        "https://en.wikipedia.org/wiki/Stemming\n",
        "https://medium.com/@tusharsri/nlp-a-quick-guide-to-stemming-60f1ca5db49e#:~:text=Stemming%20is%20basically%20removing%20the%20suffix%20from%20a%20word%20and,word%20from%20original%20stem%20word.\n",
        "https://nlp.stanford.edu/IR-book/html/htmledition/stemming-and-lemmatization-1.html"
      ],
      "execution_count": null,
      "outputs": []
    },
    {
      "cell_type": "markdown",
      "metadata": {
        "id": "hifkcEapKftb"
      },
      "source": [
        "# Stemming\n",
        "* Stemming is the process of reducing derived or inflected words to their word stem(Wikipedia)\n",
        "* Inflection is a process of word formation, in which a word is modified to express different grammatical categories such as tense, case, voice, aspect, person, number, gender, mood, animacy, and definiteness\n",
        "\n",
        "* Examples : fishing, fished, and fisher can be reduced to the stem fish.\n",
        "* Portar stemmer developed by Martin Porter(1980) has become the de facto standard algorithm used for English stemming\n",
        "* Stem need not be a word \n",
        "* Porter stemmer (a stemming program) reduces argue, argued, argues, arguing, and argus to the stem argu."
      ]
    },
    {
      "cell_type": "markdown",
      "metadata": {
        "id": "YJE_FVC1fIKR"
      },
      "source": [
        "# Porter Stemmer"
      ]
    },
    {
      "cell_type": "code",
      "metadata": {
        "id": "idMYU00RbeaV"
      },
      "source": [
        "from nltk.stem.porter import *\n",
        "#create a porter stemmer\n",
        "stemmer = PorterStemmer()"
      ],
      "execution_count": 2,
      "outputs": []
    },
    {
      "cell_type": "code",
      "metadata": {
        "id": "psEadbzmfgSg"
      },
      "source": [
        "plurals = ['caresses', 'flies', 'dies', 'mules', 'denied', 'died', 'agreed', 'owned', 'humbled', 'sized','meeting', 'stating', 'siezing', 'itemization',\n",
        "           'sensational', 'traditional', 'reference', 'colonizer', 'plotted']\n"
      ],
      "execution_count": 4,
      "outputs": []
    },
    {
      "cell_type": "code",
      "metadata": {
        "colab": {
          "base_uri": "https://localhost:8080/"
        },
        "id": "305vGmUBfpa-",
        "outputId": "5a6b4090-ae7e-47e9-f7c2-645b223bbd03"
      },
      "source": [
        "plurals"
      ],
      "execution_count": 5,
      "outputs": [
        {
          "output_type": "execute_result",
          "data": {
            "text/plain": [
              "['caresses',\n",
              " 'flies',\n",
              " 'dies',\n",
              " 'mules',\n",
              " 'denied',\n",
              " 'died',\n",
              " 'agreed',\n",
              " 'owned',\n",
              " 'humbled',\n",
              " 'sized',\n",
              " 'meeting',\n",
              " 'stating',\n",
              " 'siezing',\n",
              " 'itemization',\n",
              " 'sensational',\n",
              " 'traditional',\n",
              " 'reference',\n",
              " 'colonizer',\n",
              " 'plotted']"
            ]
          },
          "metadata": {
            "tags": []
          },
          "execution_count": 5
        }
      ]
    },
    {
      "cell_type": "code",
      "metadata": {
        "id": "C3KBmSNLf9tN"
      },
      "source": [
        "singles = [stemmer.stem(plural) for plural in plurals]\n"
      ],
      "execution_count": 6,
      "outputs": []
    },
    {
      "cell_type": "code",
      "metadata": {
        "colab": {
          "base_uri": "https://localhost:8080/"
        },
        "id": "IdAijO6Hf_eS",
        "outputId": "da5f1420-02c7-40c0-8fe8-3515a805d657"
      },
      "source": [
        "singles"
      ],
      "execution_count": 7,
      "outputs": [
        {
          "output_type": "execute_result",
          "data": {
            "text/plain": [
              "['caress',\n",
              " 'fli',\n",
              " 'die',\n",
              " 'mule',\n",
              " 'deni',\n",
              " 'die',\n",
              " 'agre',\n",
              " 'own',\n",
              " 'humbl',\n",
              " 'size',\n",
              " 'meet',\n",
              " 'state',\n",
              " 'siez',\n",
              " 'item',\n",
              " 'sensat',\n",
              " 'tradit',\n",
              " 'refer',\n",
              " 'colon',\n",
              " 'plot']"
            ]
          },
          "metadata": {
            "tags": []
          },
          "execution_count": 7
        }
      ]
    },
    {
      "cell_type": "code",
      "metadata": {
        "id": "rtdjWGABhZy0"
      },
      "source": [
        ""
      ],
      "execution_count": null,
      "outputs": []
    },
    {
      "cell_type": "markdown",
      "metadata": {
        "id": "blu3M_-hhaSh"
      },
      "source": [
        "# Snowball Stemmer"
      ]
    },
    {
      "cell_type": "code",
      "metadata": {
        "id": "SeCwIRoLhh6o"
      },
      "source": [
        "from nltk.stem.snowball import SnowballStemmer\n"
      ],
      "execution_count": 8,
      "outputs": []
    },
    {
      "cell_type": "code",
      "metadata": {
        "colab": {
          "base_uri": "https://localhost:8080/"
        },
        "id": "99RPtPOIhzFc",
        "outputId": "bf54437b-9ada-4af1-c56f-a5ea02f63e06"
      },
      "source": [
        "#Languages supported by snowball stemmer\n",
        "SnowballStemmer.languages"
      ],
      "execution_count": 9,
      "outputs": [
        {
          "output_type": "execute_result",
          "data": {
            "text/plain": [
              "('arabic',\n",
              " 'danish',\n",
              " 'dutch',\n",
              " 'english',\n",
              " 'finnish',\n",
              " 'french',\n",
              " 'german',\n",
              " 'hungarian',\n",
              " 'italian',\n",
              " 'norwegian',\n",
              " 'porter',\n",
              " 'portuguese',\n",
              " 'romanian',\n",
              " 'russian',\n",
              " 'spanish',\n",
              " 'swedish')"
            ]
          },
          "metadata": {
            "tags": []
          },
          "execution_count": 9
        }
      ]
    },
    {
      "cell_type": "code",
      "metadata": {
        "colab": {
          "base_uri": "https://localhost:8080/",
          "height": 35
        },
        "id": "3LQWyYz0h6V4",
        "outputId": "982241a8-15e6-40c8-9db8-0975650a0582"
      },
      "source": [
        "\n",
        "stemmer = SnowballStemmer(\"english\")\n",
        "stemmer.stem('running')"
      ],
      "execution_count": 12,
      "outputs": [
        {
          "output_type": "execute_result",
          "data": {
            "application/vnd.google.colaboratory.intrinsic+json": {
              "type": "string"
            },
            "text/plain": [
              "'run'"
            ]
          },
          "metadata": {
            "tags": []
          },
          "execution_count": 12
        }
      ]
    },
    {
      "cell_type": "code",
      "metadata": {
        "colab": {
          "base_uri": "https://localhost:8080/"
        },
        "id": "xsvfrDwIiYy_",
        "outputId": "89620941-9da4-441e-f4c3-72630e51a844"
      },
      "source": [
        "print(SnowballStemmer(\"english\").stem(\"generously\"))\n",
        "\n",
        "print(SnowballStemmer(\"porter\").stem(\"generously\"))\n",
        "\n",
        "print(SnowballStemmer(\"english\").stem(\"fisher\"))\n",
        "\n",
        "print(SnowballStemmer(\"porter\").stem(\"fisher\"))\n"
      ],
      "execution_count": 14,
      "outputs": [
        {
          "output_type": "stream",
          "text": [
            "generous\n",
            "gener\n",
            "fisher\n",
            "fisher\n"
          ],
          "name": "stdout"
        }
      ]
    },
    {
      "cell_type": "code",
      "metadata": {
        "colab": {
          "base_uri": "https://localhost:8080/"
        },
        "id": "0hcytfOqjU6o",
        "outputId": "cf13c91b-0ccd-42c5-e51d-7fd5e92c4ccc"
      },
      "source": [
        "import nltk\n",
        "nltk.download('punkt')\n",
        "from nltk.stem.porter import *\n",
        "\n",
        "porterStemmer = PorterStemmer()\n",
        "\n",
        "sentence = \"Provision Maximum multiply owed caring on go gone going was this\"\n",
        "wordList = nltk.word_tokenize(sentence)\n",
        "\n",
        "stemWords = [porterStemmer.stem(word) for word in wordList]\n",
        "\n",
        "print(' '.join(stemWords))\n"
      ],
      "execution_count": 16,
      "outputs": [
        {
          "output_type": "stream",
          "text": [
            "[nltk_data] Downloading package punkt to /root/nltk_data...\n",
            "[nltk_data]   Unzipping tokenizers/punkt.zip.\n",
            "provis maximum multipli owe care on go gone go wa thi\n"
          ],
          "name": "stdout"
        }
      ]
    },
    {
      "cell_type": "code",
      "metadata": {
        "id": "OPFyLiabosK9"
      },
      "source": [
        ""
      ],
      "execution_count": null,
      "outputs": []
    },
    {
      "cell_type": "markdown",
      "metadata": {
        "id": "Sb218YMRlVdl"
      },
      "source": [
        "# Lancaster stemmer (Paice-Husk stemmer)"
      ]
    },
    {
      "cell_type": "code",
      "metadata": {
        "id": "wij8saFQla3p"
      },
      "source": [
        "from nltk.stem.lancaster import *"
      ],
      "execution_count": 17,
      "outputs": []
    },
    {
      "cell_type": "code",
      "metadata": {
        "id": "cVRZEXTHltNI"
      },
      "source": [
        "#Craete a lancaster stemmer\n",
        "lancasterStemmer = LancasterStemmer()"
      ],
      "execution_count": 18,
      "outputs": []
    },
    {
      "cell_type": "code",
      "metadata": {
        "colab": {
          "base_uri": "https://localhost:8080/"
        },
        "id": "KeXoobWcl70F",
        "outputId": "a1664838-6687-44ed-f406-5caa5864b5ff"
      },
      "source": [
        "sentence = \"Provision Maximum multiply owed caring on go gone going was this\"\n",
        "wordList = nltk.word_tokenize(sentence)\n",
        "\n",
        "stemWords = [lancasterStemmer.stem(word) for word in wordList]\n",
        "\n",
        "print(' '.join(stemWords))"
      ],
      "execution_count": 19,
      "outputs": [
        {
          "output_type": "stream",
          "text": [
            "provid maxim multiply ow car on go gon going was thi\n"
          ],
          "name": "stdout"
        }
      ]
    },
    {
      "cell_type": "code",
      "metadata": {
        "id": "3Ka4LX80otQU"
      },
      "source": [
        ""
      ],
      "execution_count": null,
      "outputs": []
    },
    {
      "cell_type": "markdown",
      "metadata": {
        "id": "iEC5uU0gouEM"
      },
      "source": [
        "# Compare the output of different stemmers"
      ]
    },
    {
      "cell_type": "code",
      "metadata": {
        "id": "Rk59kHQ_qUve"
      },
      "source": [
        "# stemmer = SnowballStemmer(\"english\")"
      ],
      "execution_count": null,
      "outputs": []
    },
    {
      "cell_type": "code",
      "metadata": {
        "id": "k1D0b67Wo7G-"
      },
      "source": [
        "sentence = \"Provision Maximum multiply owed caring on go gone going was this\"\n",
        "wordList = nltk.word_tokenize(sentence)"
      ],
      "execution_count": 20,
      "outputs": []
    },
    {
      "cell_type": "code",
      "metadata": {
        "id": "cpTTT1g_pCS_"
      },
      "source": [
        "porter_stemwords = [porterStemmer.stem(word) for word in wordList]"
      ],
      "execution_count": 21,
      "outputs": []
    },
    {
      "cell_type": "code",
      "metadata": {
        "colab": {
          "base_uri": "https://localhost:8080/"
        },
        "id": "mTtFd0ylpeJ3",
        "outputId": "582fae36-8e0e-452f-9521-c0d7b38454e2"
      },
      "source": [
        "porter_stemwords"
      ],
      "execution_count": 22,
      "outputs": [
        {
          "output_type": "execute_result",
          "data": {
            "text/plain": [
              "['provis',\n",
              " 'maximum',\n",
              " 'multipli',\n",
              " 'owe',\n",
              " 'care',\n",
              " 'on',\n",
              " 'go',\n",
              " 'gone',\n",
              " 'go',\n",
              " 'wa',\n",
              " 'thi']"
            ]
          },
          "metadata": {
            "tags": []
          },
          "execution_count": 22
        }
      ]
    },
    {
      "cell_type": "code",
      "metadata": {
        "id": "Be8SpCQFprhb"
      },
      "source": [
        "lancaster_stemwords = [lancasterStemmer.stem(word) for word in wordList]"
      ],
      "execution_count": 23,
      "outputs": []
    },
    {
      "cell_type": "code",
      "metadata": {
        "colab": {
          "base_uri": "https://localhost:8080/"
        },
        "id": "OpaL6cLip2ik",
        "outputId": "08fbca51-b914-4146-eea7-96240c6b6e02"
      },
      "source": [
        "lancaster_stemwords"
      ],
      "execution_count": 24,
      "outputs": [
        {
          "output_type": "execute_result",
          "data": {
            "text/plain": [
              "['provid',\n",
              " 'maxim',\n",
              " 'multiply',\n",
              " 'ow',\n",
              " 'car',\n",
              " 'on',\n",
              " 'go',\n",
              " 'gon',\n",
              " 'going',\n",
              " 'was',\n",
              " 'thi']"
            ]
          },
          "metadata": {
            "tags": []
          },
          "execution_count": 24
        }
      ]
    },
    {
      "cell_type": "code",
      "metadata": {
        "id": "hosOGsHqp_5A"
      },
      "source": [
        "snowball_stemwords =[ SnowballStemmer(\"english\").stem(word) for word in wordList]"
      ],
      "execution_count": 25,
      "outputs": []
    },
    {
      "cell_type": "code",
      "metadata": {
        "colab": {
          "base_uri": "https://localhost:8080/"
        },
        "id": "2u3nwltgqiHw",
        "outputId": "6f3f3eae-6496-4553-f941-45b11723686e"
      },
      "source": [
        "snowball_stemwords"
      ],
      "execution_count": 26,
      "outputs": [
        {
          "output_type": "execute_result",
          "data": {
            "text/plain": [
              "['provis',\n",
              " 'maximum',\n",
              " 'multipli',\n",
              " 'owe',\n",
              " 'care',\n",
              " 'on',\n",
              " 'go',\n",
              " 'gone',\n",
              " 'go',\n",
              " 'was',\n",
              " 'this']"
            ]
          },
          "metadata": {
            "tags": []
          },
          "execution_count": 26
        }
      ]
    },
    {
      "cell_type": "markdown",
      "metadata": {
        "id": "i3tV9JAtqmTZ"
      },
      "source": [
        "Snowball has performed best in above example"
      ]
    },
    {
      "cell_type": "markdown",
      "metadata": {
        "id": "DezN9a2EwIOG"
      },
      "source": [
        "SnowballStemmers, ISRIStemmer, RSLPSStemmer are non-English stemmer\n",
        "SnowballStemmers- Danish\n",
        "Dutch\n",
        "English\n",
        "French\n",
        "German\n",
        "Hungarian\n",
        "Italian\n",
        "Norwegian\n",
        "Porter\n",
        "Portuguese\n",
        "Romanian\n",
        "Russian\n",
        "Spanish\n",
        "Swedish\n",
        "ISRIStemmer= Arabic\n",
        "RSLPSStemmer-Portugese"
      ]
    }
  ]
}