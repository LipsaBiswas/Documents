{
  "nbformat": 4,
  "nbformat_minor": 0,
  "metadata": {
    "colab": {
      "name": "GradioTestApp.ipynb",
      "provenance": [],
      "collapsed_sections": [],
      "authorship_tag": "ABX9TyOE3+gF0/JUBM5bL3u2rCuB",
      "include_colab_link": true
    },
    "kernelspec": {
      "name": "python3",
      "display_name": "Python 3"
    },
    "language_info": {
      "name": "python"
    }
  },
  "cells": [
    {
      "cell_type": "markdown",
      "metadata": {
        "id": "view-in-github",
        "colab_type": "text"
      },
      "source": [
        "<a href=\"https://colab.research.google.com/github/LipsaBiswas/Documents/blob/master/GradioTestApp.ipynb\" target=\"_parent\"><img src=\"https://colab.research.google.com/assets/colab-badge.svg\" alt=\"Open In Colab\"/></a>"
      ]
    },
    {
      "cell_type": "code",
      "metadata": {
        "id": "CWieDC9Jtgmr"
      },
      "source": [
        "# !pip install -q gradio"
      ],
      "execution_count": 71,
      "outputs": []
    },
    {
      "cell_type": "code",
      "metadata": {
        "id": "l9xxm0oP4JCo"
      },
      "source": [
        "# !pip install -q transformers"
      ],
      "execution_count": 72,
      "outputs": []
    },
    {
      "cell_type": "code",
      "metadata": {
        "id": "sul4kOf94qVI"
      },
      "source": [
        "# !pip install -q sentencepiece"
      ],
      "execution_count": 73,
      "outputs": []
    },
    {
      "cell_type": "code",
      "metadata": {
        "id": "ths9j70M40VN"
      },
      "source": [
        "# !pip install -q bert-extractive-summarizer "
      ],
      "execution_count": 74,
      "outputs": []
    },
    {
      "cell_type": "code",
      "metadata": {
        "id": "gsooP9eYDQIn"
      },
      "source": [
        "# !pip install -q  sumy"
      ],
      "execution_count": 75,
      "outputs": []
    },
    {
      "cell_type": "code",
      "metadata": {
        "id": "fKDo_m0u4Taz"
      },
      "source": [
        "import gradio as gr\n",
        "import transformers\n",
        "import sentencepiece\n",
        "from summarizer import Summarizer\n",
        "# import sumy\n",
        "# import nltk\n",
        "# nltk.download('punkt')"
      ],
      "execution_count": 76,
      "outputs": []
    },
    {
      "cell_type": "code",
      "metadata": {
        "id": "rF538rDQEQ-w"
      },
      "source": [
        "# from sumy.parsers.html import HtmlParser\n",
        "# from sumy.parsers.plaintext import PlaintextParser\n",
        "# from sumy.nlp.tokenizers import Tokenizer\n",
        "# from sumy.summarizers.text_rank import TextRankSummarizer\n",
        "# from sumy.summarizers.lex_rank import LexRankSummarizer\n",
        "# from sumy.summarizers.luhn import LuhnSummarizer\n",
        "# from sumy.summarizers.lsa import LsaSummarizer\n",
        "# from sumy.summarizers.kl import KLSummarizer\n",
        "# from sumy.summarizers.edmundson import EdmundsonSummarizer\n",
        "# from sumy.summarizers.random import  RandomSummarizer\n",
        "# from sumy.summarizers.reduction import  ReductionSummarizer\n",
        "# from sumy.summarizers.sum_basic import  SumBasicSummarizer\n",
        "# from sumy.nlp.stemmers import Stemmer\n",
        "# from sumy.utils import get_stop_words"
      ],
      "execution_count": 77,
      "outputs": []
    },
    {
      "cell_type": "code",
      "metadata": {
        "id": "u7yv-zH1ESd0"
      },
      "source": [
        "# LANGUAGE= 'english'\n",
        "# SENTENCES_COUNT =2\n",
        "# stemmer = Stemmer(LANGUAGE)"
      ],
      "execution_count": 78,
      "outputs": []
    },
    {
      "cell_type": "code",
      "metadata": {
        "id": "W-fYehDvEXhQ"
      },
      "source": [
        ""
      ],
      "execution_count": 78,
      "outputs": []
    },
    {
      "cell_type": "code",
      "metadata": {
        "colab": {
          "base_uri": "https://localhost:8080/"
        },
        "id": "0M0XS3-o5ZjA",
        "outputId": "903c8e0d-9b25-419f-a8f7-3991a48c958d"
      },
      "source": [
        "bert_model=Summarizer()"
      ],
      "execution_count": 79,
      "outputs": [
        {
          "output_type": "stream",
          "text": [
            "Some weights of the model checkpoint at bert-large-uncased were not used when initializing BertModel: ['cls.seq_relationship.weight', 'cls.predictions.transform.dense.bias', 'cls.predictions.transform.LayerNorm.bias', 'cls.predictions.decoder.weight', 'cls.predictions.transform.dense.weight', 'cls.predictions.transform.LayerNorm.weight', 'cls.predictions.bias', 'cls.seq_relationship.bias']\n",
            "- This IS expected if you are initializing BertModel from the checkpoint of a model trained on another task or with another architecture (e.g. initializing a BertForSequenceClassification model from a BertForPreTraining model).\n",
            "- This IS NOT expected if you are initializing BertModel from the checkpoint of a model that you expect to be exactly identical (initializing a BertForSequenceClassification model from a BertForSequenceClassification model).\n"
          ],
          "name": "stderr"
        }
      ]
    },
    {
      "cell_type": "code",
      "metadata": {
        "id": "mWMDuqyBF7K4"
      },
      "source": [
        "# !pip install -q keybert"
      ],
      "execution_count": 80,
      "outputs": []
    },
    {
      "cell_type": "code",
      "metadata": {
        "id": "iHCFYcZX5dfB"
      },
      "source": [
        "def SummariseText(inp,no_of_sentences,key_words_inp):\n",
        "   \n",
        "    \n",
        "  generated_text1_Gensim_50pc=\"\";\n",
        "  generated_text2_Gensim_20pc=\"\";\n",
        "  generated_text3_TextRankSummarizer =\"\";\n",
        "  generated_text4_LexRankSummarizer=\"\";\n",
        "  generated_text5_LuhnSummarizer =\"\";\n",
        "  generated_text6_LsaSummarizer=\"\";\n",
        "  generated_text7_KLSummarizer =\"\";\n",
        "  generated_text8_RandomSummarizer=\"\";\n",
        "  generated_text9_ReductionSummarizer =\"\"; \n",
        "  generated_text10_SumBasicSummarizer =\"\"; \n",
        "  generated_text11_Edmundson =\"\"; \n",
        "  generated_text12_bertmodel =\"\";\n",
        "  generated_text13_transformer_pipeline=\"\";\n",
        "  generated_text14_t5_base =\"\"; \n",
        "  generated_text15_t5_small =\"\"; \n",
        "  generated_text16_finetuned_summarize_news =\"\"; \n",
        "  extracted_keywords=\"\";\n",
        "  \n",
        "  # generated_text1_Gensim_50pc = summarize(inp, ratio=0.5)  \n",
        "  # generated_text2_Gensim_20pc = summarize(inp, ratio=0.2)\n",
        "  # num_sentences_in_summary = no_of_sentences #getting 2 sentence\n",
        "  # parser = PlaintextParser(inp, Tokenizer('english'))\n",
        "  # summarizer_list=(\"TextRankSummarizer\",\"LexRankSummarizer\",\"LuhnSummarizer\",\"LsaSummarizer\",\"KLSummarizer\",\"RandomSummarizer\",\"ReductionSummarizer\",\"SumBasicSummarizer\") #list of summarizers\n",
        "  # summarizers = [TextRankSummarizer(), LexRankSummarizer(), LuhnSummarizer(), LsaSummarizer(),KLSummarizer(),RandomSummarizer(),ReductionSummarizer(),SumBasicSummarizer()]\n",
        "  # all_sentences= \"\";\n",
        "  # for i,summarizer in enumerate(summarizers):\n",
        "  #   summary_text =\"\"\n",
        "    \n",
        "  #   for sentence in summarizer(parser.document, num_sentences_in_summary):\n",
        "  #        summary_text = summary_text + str(sentence)\n",
        "  #   if (summarizer_list[i]==\"TextRankSummarizer\"):\n",
        "  #     generated_text3_TextRankSummarizer = summary_text\n",
        "  #   elif (summarizer_list[i]==\"LexRankSummarizer\"):\n",
        "  #     generated_text4_LexRankSummarizer = summary_text\n",
        "  #   elif (summarizer_list[i]==\"LuhnSummarizer\"):\n",
        "  #     generated_text5_LuhnSummarizer = summary_text\n",
        "  #   elif (summarizer_list[i]==\"LsaSummarizer\"):\n",
        "  #     generated_text6_LsaSummarizer = summary_text\n",
        "  #   elif (summarizer_list[i]==\"KLSummarizer\"):\n",
        "  #     generated_text7_KLSummarizer = summary_text\n",
        "  #   elif (summarizer_list[i]==\"RandomSummarizer\"):\n",
        "  #     generated_text8_RandomSummarizer = summary_text\n",
        "  #   elif (summarizer_list[i]==\"ReductionSummarizer\"):\n",
        "  #     generated_text9_ReductionSummarizer = summary_text\n",
        "  #   elif (summarizer_list[i]==\"SumBasicSummarizer\"):\n",
        "  #     generated_text10_SumBasicSummarizer= summary_text\n",
        "  #   else  :\n",
        "  #     generated_text1999=\"\";\n",
        "  \n",
        "  # EdSummarizer = EdmundsonSummarizer(stemmer)\n",
        "  # EdSummarizer.bonus_words = key_words_inp ;\n",
        "  # # ('amplification-free', 'fluorescence-based','Hybrid', 'Capture' ,'Fluorescence', 'Immunoassay')\n",
        "  # EdSummarizer.stigma_words = ('example')\n",
        "  # EdSummarizer.null_words = ('literature','however')\n",
        "  # parser = PlaintextParser(inp, Tokenizer('english'))\n",
        "  # for sentence in EdSummarizer(parser.document , SENTENCES_COUNT):\n",
        "  #     generated_text11_Edmundson += str(sentence)\n",
        "      \n",
        "  generated_text12_bertmodel = bert_model(inp)\n",
        "\n",
        "   \n",
        " \n",
        "\n",
        "  # return extracted_keywords,generated_text1_Gensim_50pc,generated_text2_Gensim_20pc,generated_text3_TextRankSummarizer,generated_text4_LexRankSummarizer,generated_text5_LuhnSummarizer,generated_text6_LsaSummarizer,generated_text7_KLSummarizer,generated_text8_RandomSummarizer,generated_text9_ReductionSummarizer,generated_text10_SumBasicSummarizer,generated_text11_Edmundson,generated_text12_bertmodel,generated_text13_transformer_pipeline,generated_text14_t5_base,generated_text15_t5_small,generated_text16_finetuned_summarize_news,generated_text17_of_summaries1\n",
        "  return   generated_text12_bertmodel \n",
        "\n",
        "\n",
        " \n"
      ],
      "execution_count": 81,
      "outputs": []
    },
    {
      "cell_type": "code",
      "metadata": {
        "colab": {
          "base_uri": "https://localhost:8080/",
          "height": 906
        },
        "id": "OJsvj22x3O1Q",
        "outputId": "5df6311c-c630-4a8a-a317-5898d6dad6d2"
      },
      "source": [
        "iface = gr.Interface(\n",
        "  fn=SummariseText, \n",
        "  inputs=[gr.inputs.Textbox(label=\"Abstract (*Enter paragraphs)\",lines=10, placeholder=\"Enter abstract text here...\"),\n",
        "          gr.inputs.Textbox(label=\"No. of sentences for summary\", placeholder=\"Enter a number between 2 to 4\"),\n",
        "          gr.inputs.Textbox(label=\"Input keywords(ex. 'COVID-19', 'Repurposing', 'Renin')\",lines=3, placeholder=\"eg ('COVID-19', 'Repurposing', 'Renin')\") ],\n",
        "    \n",
        "  outputs=[ \n",
        "           gr.outputs.Textbox(label=\"* Summary-12 (Bert) \")  ],title= \"Auto summarization and Summary comparision(beta)\"  )\n",
        "iface.launch(debug=True)"
      ],
      "execution_count": 82,
      "outputs": [
        {
          "output_type": "stream",
          "text": [
            "Colab notebook detected. This cell will run indefinitely so that you can see errors and logs. To turn off, set debug=False in launch().\n",
            "This share link will expire in 24 hours. If you need a permanent link, visit: https://gradio.app/introducing-hosted (NEW!)\n",
            "Running on External URL: https://20752.gradio.app\n",
            "Interface loading below...\n"
          ],
          "name": "stdout"
        },
        {
          "output_type": "display_data",
          "data": {
            "text/html": [
              "\n",
              "        <iframe\n",
              "            width=\"1000\"\n",
              "            height=\"500\"\n",
              "            src=\"https://20752.gradio.app\"\n",
              "            frameborder=\"0\"\n",
              "            allowfullscreen\n",
              "        ></iframe>\n",
              "        "
            ],
            "text/plain": [
              "<IPython.lib.display.IFrame at 0x7f397e76b0d0>"
            ]
          },
          "metadata": {
            "tags": []
          }
        },
        {
          "output_type": "stream",
          "text": [
            "Tip: Add interpretation to your model by simply adding `interpretation=\"default\"` to `Interface()`\n"
          ],
          "name": "stdout"
        },
        {
          "output_type": "error",
          "ename": "KeyboardInterrupt",
          "evalue": "ignored",
          "traceback": [
            "\u001b[0;31m---------------------------------------------------------------------------\u001b[0m",
            "\u001b[0;31mKeyboardInterrupt\u001b[0m                         Traceback (most recent call last)",
            "\u001b[0;32m<ipython-input-82-48222869eabb>\u001b[0m in \u001b[0;36m<module>\u001b[0;34m()\u001b[0m\n\u001b[1;32m      7\u001b[0m   outputs=[ \n\u001b[1;32m      8\u001b[0m            gr.outputs.Textbox(label=\"* Summary-12 (Bert) \")  ],title= \"Auto summarization and Summary comparision(beta)\"  )\n\u001b[0;32m----> 9\u001b[0;31m \u001b[0miface\u001b[0m\u001b[0;34m.\u001b[0m\u001b[0mlaunch\u001b[0m\u001b[0;34m(\u001b[0m\u001b[0mdebug\u001b[0m\u001b[0;34m=\u001b[0m\u001b[0;32mTrue\u001b[0m\u001b[0;34m)\u001b[0m\u001b[0;34m\u001b[0m\u001b[0;34m\u001b[0m\u001b[0m\n\u001b[0m",
            "\u001b[0;32m/usr/local/lib/python3.7/dist-packages/gradio/interface.py\u001b[0m in \u001b[0;36mlaunch\u001b[0;34m(self, inline, inbrowser, share, debug, auth, auth_message, private_endpoint)\u001b[0m\n\u001b[1;32m    479\u001b[0m             \u001b[0;32mwhile\u001b[0m \u001b[0;32mTrue\u001b[0m\u001b[0;34m:\u001b[0m\u001b[0;34m\u001b[0m\u001b[0;34m\u001b[0m\u001b[0m\n\u001b[1;32m    480\u001b[0m                 \u001b[0msys\u001b[0m\u001b[0;34m.\u001b[0m\u001b[0mstdout\u001b[0m\u001b[0;34m.\u001b[0m\u001b[0mflush\u001b[0m\u001b[0;34m(\u001b[0m\u001b[0;34m)\u001b[0m\u001b[0;34m\u001b[0m\u001b[0;34m\u001b[0m\u001b[0m\n\u001b[0;32m--> 481\u001b[0;31m                 \u001b[0mtime\u001b[0m\u001b[0;34m.\u001b[0m\u001b[0msleep\u001b[0m\u001b[0;34m(\u001b[0m\u001b[0;36m0.1\u001b[0m\u001b[0;34m)\u001b[0m\u001b[0;34m\u001b[0m\u001b[0;34m\u001b[0m\u001b[0m\n\u001b[0m\u001b[1;32m    482\u001b[0m         \u001b[0mis_in_interactive_mode\u001b[0m \u001b[0;34m=\u001b[0m \u001b[0mbool\u001b[0m\u001b[0;34m(\u001b[0m\u001b[0mgetattr\u001b[0m\u001b[0;34m(\u001b[0m\u001b[0msys\u001b[0m\u001b[0;34m,\u001b[0m \u001b[0;34m'ps1'\u001b[0m\u001b[0;34m,\u001b[0m \u001b[0msys\u001b[0m\u001b[0;34m.\u001b[0m\u001b[0mflags\u001b[0m\u001b[0;34m.\u001b[0m\u001b[0minteractive\u001b[0m\u001b[0;34m)\u001b[0m\u001b[0;34m)\u001b[0m\u001b[0;34m\u001b[0m\u001b[0;34m\u001b[0m\u001b[0m\n\u001b[1;32m    483\u001b[0m         \u001b[0;32mif\u001b[0m \u001b[0;32mnot\u001b[0m \u001b[0mis_in_interactive_mode\u001b[0m\u001b[0;34m:\u001b[0m\u001b[0;34m\u001b[0m\u001b[0;34m\u001b[0m\u001b[0m\n",
            "\u001b[0;31mKeyboardInterrupt\u001b[0m: "
          ]
        }
      ]
    }
  ]
}